{
 "cells": [
  {
   "cell_type": "code",
   "execution_count": 1,
   "metadata": {},
   "outputs": [],
   "source": [
    "import pandas as pd\n",
    "import numpy as np"
   ]
  },
  {
   "cell_type": "code",
   "execution_count": 2,
   "metadata": {},
   "outputs": [],
   "source": [
    "df_share = pd.read_excel('datasets/plot1.xlsx', sheet_name='Sheet 1')\n",
    "df_hydro = pd.read_excel('datasets/plot2.xlsx', sheet_name='Sheet 1')\n",
    "df_geothermal = pd.read_excel('datasets/plot2.xlsx', sheet_name='Sheet 2')\n",
    "df_wind = pd.read_excel('datasets/plot2.xlsx', sheet_name='Sheet 3')\n",
    "df_solar = pd.read_excel('datasets/plot2.xlsx', sheet_name='Sheet 4')\n",
    "df_solid_biofuels = pd.read_excel('datasets/plot2.xlsx', sheet_name='Sheet 5')\n",
    "df_nuclear = pd.read_excel('datasets/plot3.xlsx', sheet_name='Sheet 1')\n",
    "df_environmental_tax = pd.read_excel('datasets/plot4.xlsx', sheet_name='Sheet 2')\n",
    "df_investments = pd.read_excel('datasets/plot5.xlsx', sheet_name='Sheet 1')"
   ]
  },
  {
   "cell_type": "code",
   "execution_count": 3,
   "metadata": {},
   "outputs": [],
   "source": [
    "df_share = df_share.rename(columns={df_share.columns[0]: 'country'})\n",
    "df_hydro = df_hydro.rename(columns={df_hydro.columns[0]: 'country'})\n",
    "df_geothermal = df_geothermal.rename(columns={df_geothermal.columns[0]: 'country'})\n",
    "df_wind = df_wind.rename(columns={df_wind.columns[0]: 'country'})\n",
    "df_solar = df_solar.rename(columns={df_solar.columns[0]: 'country'})\n",
    "df_solid_biofuels = df_solid_biofuels.rename(columns={df_solid_biofuels.columns[0]: 'country'})\n",
    "df_nuclear = df_nuclear.rename(columns={df_nuclear.columns[0]: 'country'})\n",
    "df_environmental_tax = df_environmental_tax.rename(columns={df_environmental_tax.columns[0]: 'country'})\n",
    "df_investments = df_investments.rename(columns={df_investments.columns[0]: 'country'})\n",
    "\n",
    "df_share = df_share.map(lambda x: 0 if x == ':' else x).fillna(0)\n",
    "df_hydro = df_hydro.map(lambda x: 0 if x == ':' else x).fillna(0)\n",
    "df_geothermal = df_geothermal.map(lambda x: 0 if x == ':' else x).fillna(0)\n",
    "df_wind = df_wind.map(lambda x: 0 if x == ':' else x).fillna(0)\n",
    "df_solar = df_solar.map(lambda x: 0 if x == ':' else x).fillna(0)\n",
    "df_solid_biofuels = df_solid_biofuels.map(lambda x: 0 if x == ':' else x).fillna(0)\n",
    "df_nuclear = df_nuclear.map(lambda x: 0 if x == ':' else x).fillna(0)\n",
    "df_environmental_tax = df_environmental_tax.map(lambda x: 0 if x == ':' else x).fillna(0)\n",
    "df_investments = df_investments.map(lambda x: 0 if x == ':' else x).fillna(0)"
   ]
  },
  {
   "cell_type": "code",
   "execution_count": 4,
   "metadata": {},
   "outputs": [],
   "source": [
    "# Plot 1\n",
    "columns_to_round = df_share.columns.difference(['country'])\n",
    "df_share[columns_to_round] = df_share[columns_to_round].round(1)\n",
    "\n",
    "df_share.at[0, 'country'] = df_share.at[0, 'country'].replace('European Union - 27 countries (from 2020)', 'European Union Average')\n",
    "\n",
    "# df_share"
   ]
  },
  {
   "cell_type": "code",
   "execution_count": 5,
   "metadata": {},
   "outputs": [],
   "source": [
    "# Plot 2\n",
    "df_hydro = df_hydro.rename(columns={df_hydro.columns[1]: 'hydro'})\n",
    "df_geothermal = df_geothermal.rename(columns={df_geothermal.columns[1]: 'geothermal'})\n",
    "df_wind = df_wind.rename(columns={df_wind.columns[1]: 'wind'})\n",
    "df_solar = df_solar.rename(columns={df_solar.columns[1]: 'solar'})\n",
    "df_solid_biofuels = df_solid_biofuels.rename(columns={df_solid_biofuels.columns[1]: 'biofuels'})\n",
    "\n",
    "df_merge = df_hydro.merge(df_geothermal, on='country', how='outer')\\\n",
    "                   .merge(df_wind, on='country', how='outer')\\\n",
    "                   .merge(df_solar, on='country', how='outer')\\\n",
    "                   .merge(df_solid_biofuels, on='country', how='outer')\n",
    "\n",
    "total_row = df_merge.sum()\n",
    "\n",
    "df_merge.loc['6'] = total_row\n",
    "df_merge.loc['6', 'country'] = 'European Union'\n",
    "\n",
    "df_merge['total_sum'] = df_merge.iloc[:, 1:].sum(axis=1)\n",
    "df_merge['total_sum'] = pd.to_numeric(df_merge['total_sum'], errors='coerce')\n",
    "\n",
    "top_5_electricity_production = df_merge.nlargest(6, 'total_sum')\n",
    "\n",
    "columns_to_scale = ['hydro', 'geothermal', 'wind', 'solar', 'biofuels']\n",
    "for column in columns_to_scale:\n",
    "    top_5_electricity_production[column] = (top_5_electricity_production[column] * 100) / top_5_electricity_production['total_sum']\n",
    "    top_5_electricity_production[column] = top_5_electricity_production[column].round(1)\n",
    "    \n",
    "top_5_electricity_production = top_5_electricity_production.drop(columns=['total_sum']).reset_index(drop=True)\n",
    "\n",
    "# top_5_electricity_production"
   ]
  },
  {
   "cell_type": "code",
   "execution_count": 6,
   "metadata": {},
   "outputs": [],
   "source": [
    "# Plot 3\n",
    "df_nuclear = df_nuclear.sort_values(by=2023, ascending=False).head(5).reset_index(drop=True)\n",
    "df_nuclear = df_nuclear.rename(columns={df_nuclear.columns[1]: 'production'})\n",
    "\n",
    "# df_nuclear"
   ]
  },
  {
   "cell_type": "code",
   "execution_count": 7,
   "metadata": {},
   "outputs": [],
   "source": [
    "# Plot 4\n",
    "df_environmental_tax = df_environmental_tax.rename(columns={df_environmental_tax.columns[1]: 'taxes'})\n",
    "\n",
    "# df_environmental_tax\t"
   ]
  },
  {
   "cell_type": "code",
   "execution_count": 8,
   "metadata": {},
   "outputs": [],
   "source": [
    "# Plot 5"
   ]
  },
  {
   "cell_type": "code",
   "execution_count": 9,
   "metadata": {},
   "outputs": [],
   "source": [
    "df_share.to_csv('plot1.csv')\n",
    "top_5_electricity_production.to_csv('plot2.csv')\n",
    "df_nuclear.to_csv('plot3.csv')\n",
    "df_environmental_tax.to_csv('plot4.csv')"
   ]
  }
 ],
 "metadata": {
  "kernelspec": {
   "display_name": "everyday_use",
   "language": "python",
   "name": "python3"
  },
  "language_info": {
   "codemirror_mode": {
    "name": "ipython",
    "version": 3
   },
   "file_extension": ".py",
   "mimetype": "text/x-python",
   "name": "python",
   "nbconvert_exporter": "python",
   "pygments_lexer": "ipython3",
   "version": "3.12.7"
  }
 },
 "nbformat": 4,
 "nbformat_minor": 2
}
