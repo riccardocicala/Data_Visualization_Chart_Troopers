{
 "cells": [
  {
   "cell_type": "code",
   "execution_count": 16,
   "metadata": {},
   "outputs": [],
   "source": [
    "import pandas as pd\n",
    "import numpy as np"
   ]
  },
  {
   "cell_type": "code",
   "execution_count": 17,
   "metadata": {},
   "outputs": [
    {
     "name": "stderr",
     "output_type": "stream",
     "text": [
      "c:\\Users\\ricca\\anaconda3\\lib\\site-packages\\openpyxl\\styles\\stylesheet.py:237: UserWarning: Workbook contains no default style, apply openpyxl's default\n",
      "  warn(\"Workbook contains no default style, apply openpyxl's default\")\n",
      "c:\\Users\\ricca\\anaconda3\\lib\\site-packages\\openpyxl\\styles\\stylesheet.py:237: UserWarning: Workbook contains no default style, apply openpyxl's default\n",
      "  warn(\"Workbook contains no default style, apply openpyxl's default\")\n"
     ]
    }
   ],
   "source": [
    "#PLOT 1\n",
    "df_heating = pd.read_excel('heating_cooling_yearly.xlsx', sheet_name='Sheet 1')\n",
    "df_cooling = pd.read_excel('heating_cooling_yearly.xlsx', sheet_name='Sheet 2')\n",
    "df_heating = df_heating.rename(columns={df_heating.columns[0]: 'country'})\n",
    "columns = df_heating[df_heating['country']=='TIME']\n",
    "years_heating = []\n",
    "for idx, y in enumerate(columns.values[0]):\n",
    "    if y=='TIME' or (type(y)==float and np.isnan(y)):\n",
    "        continue\n",
    "    df_heating = df_heating.rename(columns={df_heating.columns[idx]: str(int(y))})\n",
    "    years_heating.append(str(int(y)))\n",
    "df_heating = df_heating[['country']+years_heating]\n",
    "df_heating = df_heating[df_heating['country']=='European Union - 27 countries (from 2020)']\n",
    "df_heating['country'] = 'Europe'\n",
    "df_cooling = df_cooling.rename(columns={df_cooling.columns[0]: 'country'})\n",
    "columns_cooling = df_cooling[df_cooling['country']=='TIME']\n",
    "years_cooling = []\n",
    "for idx, y in enumerate(columns.values[0]):\n",
    "    if y=='TIME' or (type(y)==float and np.isnan(y)):\n",
    "        continue\n",
    "    df_cooling = df_cooling.rename(columns={df_cooling.columns[idx]: str(int(y))})\n",
    "    years_cooling.append(str(int(y)))\n",
    "df_cooling = df_cooling[['country']+years_cooling]\n",
    "df_cooling = df_cooling[df_cooling['country']=='European Union - 27 countries (from 2020)']\n",
    "df_cooling['country'] = 'Europe'\n",
    "years = sorted(list(set(years_heating+years_cooling)))\n",
    "df = []\n",
    "for y in years:\n",
    "    df.append(pd.DataFrame({'year': [int(y)], 'heating': [float(df_heating[y].values[0])], 'cooling': [float(df_cooling[y].values[0])]}))\n",
    "df = pd.concat(df, ignore_index=True)\n",
    "# df = df[df['year']>2005].reset_index(drop=True)\n",
    "df.to_csv('plot1.csv')"
   ]
  },
  {
   "cell_type": "code",
   "execution_count": 21,
   "metadata": {},
   "outputs": [
    {
     "name": "stderr",
     "output_type": "stream",
     "text": [
      "c:\\Users\\ricca\\anaconda3\\lib\\site-packages\\openpyxl\\styles\\stylesheet.py:237: UserWarning: Workbook contains no default style, apply openpyxl's default\n",
      "  warn(\"Workbook contains no default style, apply openpyxl's default\")\n",
      "c:\\Users\\ricca\\anaconda3\\lib\\site-packages\\openpyxl\\styles\\stylesheet.py:237: UserWarning: Workbook contains no default style, apply openpyxl's default\n",
      "  warn(\"Workbook contains no default style, apply openpyxl's default\")\n"
     ]
    }
   ],
   "source": [
    "#PLOT 2 - 3\n",
    "geojson = pd.read_json('europe.geojson')\n",
    "valid_country = []\n",
    "valid_ISO = {}\n",
    "for d in geojson['features'].values:\n",
    "    valid_country.append(d['properties']['NAME'])\n",
    "    valid_ISO[d['properties']['NAME']] = d['properties']['ISO3']\n",
    "valid_country.sort()\n",
    "df_heating = pd.read_excel('heating_cooling_yearly.xlsx', sheet_name='Sheet 1')\n",
    "df_cooling = pd.read_excel('heating_cooling_yearly.xlsx', sheet_name='Sheet 2')\n",
    "df_heating = df_heating.rename(columns={df_heating.columns[0]: 'country'})\n",
    "columns = df_heating[df_heating['country']=='TIME']\n",
    "years_heating = []\n",
    "for idx, y in enumerate(columns.values[0]):\n",
    "    if y=='TIME' or (type(y)==float and np.isnan(y)):\n",
    "        continue\n",
    "    df_heating = df_heating.rename(columns={df_heating.columns[idx]: str(int(y))})\n",
    "    years_heating.append(str(int(y)))\n",
    "df_heating = df_heating[['country']+years_heating]\n",
    "df_heating = df_heating[df_heating['country'].isin(valid_country)]\n",
    "df_heating = df_heating.sort_values('country')\n",
    "df_heating = df_heating.rename(columns={'country': 'Entity'})\n",
    "df_heating['Code'] = df_heating['Entity'].apply(lambda val: valid_ISO[val])\n",
    "df_heating = df_heating[~df_heating['Entity'].duplicated()].reset_index(drop=True)\n",
    "df_cooling = df_cooling.rename(columns={df_cooling.columns[0]: 'country'})\n",
    "columns_cooling = df_cooling[df_cooling['country']=='TIME']\n",
    "years_cooling = []\n",
    "for idx, y in enumerate(columns.values[0]):\n",
    "    if y=='TIME' or (type(y)==float and np.isnan(y)):\n",
    "        continue\n",
    "    df_cooling = df_cooling.rename(columns={df_cooling.columns[idx]: str(int(y))})\n",
    "    years_cooling.append(str(int(y)))\n",
    "df_cooling = df_cooling[['country']+years_cooling]\n",
    "df_cooling = df_cooling[df_cooling['country'].isin(valid_country)]\n",
    "df_cooling = df_cooling.sort_values('country')\n",
    "df_cooling = df_cooling.rename(columns={'country': 'Entity'})\n",
    "df_cooling['Code'] = df_cooling['Entity'].apply(lambda val: valid_ISO[val])\n",
    "df_cooling = df_cooling[~df_cooling['Entity'].duplicated()].reset_index(drop=True)\n",
    "years = sorted(list(set(years_heating+years_cooling)))\n",
    "countries = sorted(list(set(df_cooling['Entity'].to_list()+df_heating['Entity'].to_list())))\n",
    "df = []\n",
    "for c in countries:\n",
    "    for y in years:\n",
    "        df.append(pd.DataFrame({'Entity': [c], 'Code': [valid_ISO[c]], 'year': [int(y)], 'heating': [float(df_heating[df_heating['Entity']==c][y].values[0])], 'cooling': [float(df_cooling[df_cooling['Entity']==c][y].values[0])]}))\n",
    "df = pd.concat(df, ignore_index=True)\n",
    "df = df[df['year']==2022].reset_index(drop=True)\n",
    "df.to_csv('plot2.csv')"
   ]
  },
  {
   "cell_type": "code",
   "execution_count": 19,
   "metadata": {},
   "outputs": [
    {
     "name": "stderr",
     "output_type": "stream",
     "text": [
      "c:\\Users\\ricca\\anaconda3\\lib\\site-packages\\openpyxl\\styles\\stylesheet.py:237: UserWarning: Workbook contains no default style, apply openpyxl's default\n",
      "  warn(\"Workbook contains no default style, apply openpyxl's default\")\n"
     ]
    }
   ],
   "source": [
    "#PLOT 4\n",
    "df_ph = pd.read_excel('sea_pH.xlsx', sheet_name='Sheet 1')\n",
    "df_ph = df_ph.rename(columns={df_ph.columns[0]: 'index'})\n",
    "columns = df_ph[df_ph['index']=='TIME']\n",
    "years = []\n",
    "for idx, y in enumerate(columns.values[0]):\n",
    "    if y=='TIME' or (type(y)==float and np.isnan(y)):\n",
    "        continue\n",
    "    df_ph = df_ph.rename(columns={df_ph.columns[idx]: y})\n",
    "    years.append(y)\n",
    "df_ph = df_ph[['index']+years]\n",
    "df_ph = df_ph[df_ph['index']=='Global pH value']\n",
    "df_ph['index'] = 'pH'\n",
    "df = []\n",
    "for y in years:\n",
    "    df.append(pd.DataFrame({'year': [int(y)], 'pH': [float(df_ph[y].values[0])]}))\n",
    "df = pd.concat(df, ignore_index=True)\n",
    "df.to_csv('plot4.csv')"
   ]
  },
  {
   "cell_type": "code",
   "execution_count": 20,
   "metadata": {},
   "outputs": [
    {
     "name": "stderr",
     "output_type": "stream",
     "text": [
      "c:\\Users\\ricca\\anaconda3\\lib\\site-packages\\openpyxl\\styles\\stylesheet.py:237: UserWarning: Workbook contains no default style, apply openpyxl's default\n",
      "  warn(\"Workbook contains no default style, apply openpyxl's default\")\n"
     ]
    }
   ],
   "source": [
    "#PLOT 5\n",
    "df_losses = pd.read_excel('losses.xlsx', sheet_name='Sheet 1')\n",
    "df_losses = df_losses.rename(columns={df_losses.columns[0]: 'country'})\n",
    "columns = df_losses[df_losses['country']=='TIME']\n",
    "years = []\n",
    "for idx, y in enumerate(columns.values[0]):\n",
    "    if y=='TIME' or (type(y)==float and np.isnan(y)):\n",
    "        continue\n",
    "    df_losses = df_losses.rename(columns={df_losses.columns[idx]: y})\n",
    "    years.append(y)\n",
    "df_losses = df_losses[['country']+years]\n",
    "df_losses = df_losses[df_losses['country']=='European Union - 27 countries (from 2020)']\n",
    "df_losses['country'] = 'Europe'\n",
    "df = []\n",
    "for y in years:\n",
    "    if type(df_losses[y].values[0])==str and df_losses[y].values[0]==':':\n",
    "        continue\n",
    "    df.append(pd.DataFrame({'year': [int(y)], 'losses': [float(df_losses[y].values[0])]}))\n",
    "df = pd.concat(df, ignore_index=True)\n",
    "df.to_csv('plot5.csv')"
   ]
  }
 ],
 "metadata": {
  "kernelspec": {
   "display_name": "base",
   "language": "python",
   "name": "python3"
  },
  "language_info": {
   "codemirror_mode": {
    "name": "ipython",
    "version": 3
   },
   "file_extension": ".py",
   "mimetype": "text/x-python",
   "name": "python",
   "nbconvert_exporter": "python",
   "pygments_lexer": "ipython3",
   "version": "3.10.9"
  }
 },
 "nbformat": 4,
 "nbformat_minor": 2
}
